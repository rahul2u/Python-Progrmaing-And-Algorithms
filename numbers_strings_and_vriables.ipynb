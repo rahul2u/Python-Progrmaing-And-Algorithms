{
 "cells": [
  {
   "cell_type": "markdown",
   "metadata": {},
   "source": [
    "#### Python 6 standard data types\n",
    "- Numbers\n",
    " - intiger\n",
    " - long\n",
    " - float\n",
    " - complex\n",
    " \n",
    "- Boolen\n",
    "\n",
    "- String\n",
    " - '' \n",
    " - \"\" - single and double are same\n",
    " - '''   ''' (you can write single and double quotes in thriple quotes)\n",
    "- List\n",
    "\n",
    "- Tuple\n",
    "\n",
    "- Dictonery\n",
    "\n",
    "- Set"
   ]
  },
  {
   "cell_type": "markdown",
   "metadata": {},
   "source": [
    "##### The format method\n",
    "\n",
    "Sometimes we may want to construct strings from other information. This is where the\n",
    "format()  method is useful."
   ]
  },
  {
   "cell_type": "code",
   "execution_count": 1,
   "metadata": {
    "collapsed": false
   },
   "outputs": [
    {
     "name": "stdout",
     "output_type": "stream",
     "text": [
      "Rahul was 20 years old when he wrote this program\n",
      "Why is Rahul playing with that python?\n"
     ]
    }
   ],
   "source": [
    "age = 20\n",
    "name = 'Rahul'\n",
    "print('{0} was {1} years old when he wrote this program'.format(name, age))\n",
    "print('Why is {0} playing with that python?'.format(name))"
   ]
  },
  {
   "cell_type": "markdown",
   "metadata": {},
   "source": [
    "Notice that we could have achieved the same using string concatenation:\n"
   ]
  },
  {
   "cell_type": "code",
   "execution_count": 2,
   "metadata": {
    "collapsed": false
   },
   "outputs": [
    {
     "data": {
      "text/plain": [
       "'Rahul is 20 years old'"
      ]
     },
     "execution_count": 2,
     "metadata": {},
     "output_type": "execute_result"
    }
   ],
   "source": [
    "name + ' is ' + str(age) + ' years old'"
   ]
  },
  {
   "cell_type": "markdown",
   "metadata": {},
   "source": [
    "but that is much uglier and error-prone. Second, the conversion to string would be done\n",
    "automatically by the  format  method instead of the explicit conversion to strings needed in\n",
    "this case. Third, when using the  format  method, we can change the message without\n",
    "having to deal with the variables used and vice-versa.\n",
    "\n",
    "Also note that the numbers are optional, so you could have also written as:"
   ]
  },
  {
   "cell_type": "code",
   "execution_count": 3,
   "metadata": {
    "collapsed": false
   },
   "outputs": [
    {
     "name": "stdout",
     "output_type": "stream",
     "text": [
      "Rahul was 20 years old when he wrote this program\n",
      "Why is Rahul playing with that python?\n"
     ]
    }
   ],
   "source": [
    "age = 20\n",
    "name = 'Rahul'\n",
    "print('{} was {} years old when he wrote this program'.format(name, age))\n",
    "print('Why is {} playing with that python?'.format(name))"
   ]
  },
  {
   "cell_type": "markdown",
   "metadata": {},
   "source": [
    "which will give the same exact output as the previous program.\n",
    "What Python does in the  format  method is that it substitutes each argument value into the\n",
    "place of the specification.\n",
    "\n",
    "There can be more detailed specifications such as:"
   ]
  },
  {
   "cell_type": "code",
   "execution_count": 7,
   "metadata": {
    "collapsed": false
   },
   "outputs": [
    {
     "name": "stdout",
     "output_type": "stream",
     "text": [
      "0.333\n",
      "___hello___\n",
      "Rahul Singh wrote  Numbers, strings and variables\n"
     ]
    }
   ],
   "source": [
    "# decimal (.) precision of 3 for float '0.333'\n",
    "print('{0:.3f}'.format(1.0/3))\n",
    "# fill with underscores (_) with the text centered\n",
    "# (^) to 11 width '___hello___'\n",
    "print('{0:_^11}'.format('hello'))\n",
    "# keyword-based 'Rahul Singh wrote  a Python program'\n",
    "print('{name} wrote {program}'.format(name='Rahul Singh', program=' Numbers, strings and variables'))"
   ]
  },
  {
   "cell_type": "markdown",
   "metadata": {},
   "source": [
    "Since we are discussing formatting, note that  print  always ends with an invisible \"new\n",
    "line\" character ( \\n  ) so that repeated calls to  print  will all print on a separate line each. To\n",
    "prevent this newline character from being printed, you can specify that it should  end  with a\n",
    "blank:"
   ]
  },
  {
   "cell_type": "code",
   "execution_count": 8,
   "metadata": {
    "collapsed": false
   },
   "outputs": [
    {
     "name": "stdout",
     "output_type": "stream",
     "text": [
      "ab"
     ]
    }
   ],
   "source": [
    "print('a', end='')\n",
    "print('b', end='')"
   ]
  },
  {
   "cell_type": "markdown",
   "metadata": {},
   "source": [
    "\n",
    "\n",
    "Or you can  end  with a space:"
   ]
  },
  {
   "cell_type": "code",
   "execution_count": 10,
   "metadata": {
    "collapsed": false
   },
   "outputs": [
    {
     "name": "stdout",
     "output_type": "stream",
     "text": [
      "a b c\n"
     ]
    }
   ],
   "source": [
    "print('a', end=' ')\n",
    "print('b', end=' ')\n",
    "print('c')"
   ]
  },
  {
   "cell_type": "markdown",
   "metadata": {},
   "source": [
    "#### Escape Sequences"
   ]
  },
  {
   "cell_type": "markdown",
   "metadata": {},
   "source": [
    "Suppose, you want to have a string which contains a single quote ( '  ), how will you specify\n",
    "this string? For example, the string is  \"What's your name?\"  . You cannot specify  'What's\n",
    "your name?'  because Python will be confused as to where the string starts and ends. So,\n",
    "you will have to specify that this single quote does not indicate the end of the string. This can\n",
    "be done with the help of what is called an escape sequence. You specify the single quote as\n",
    "\\'  : notice the backslash. Now, you can specify the string as  'What\\'s your name?'  .\n",
    "Another way of specifying this specific string would be  \"What's your name?\"  i.e. using\n",
    "double quotes. Similarly, you have to use an escape sequence for using a double quote\n",
    "itself in a double quoted string. Also, you have to indicate the backslash itself using the\n",
    "escape sequence  \\\\  .\n",
    "What if you wanted to specify a two-line string? One way is to use a triple-quoted string as\n",
    "shown previously or you can use an escape sequence for the newline character -  \\n  to\n",
    "indicate the start of a new line. An example is:"
   ]
  },
  {
   "cell_type": "code",
   "execution_count": 12,
   "metadata": {
    "collapsed": false
   },
   "outputs": [
    {
     "data": {
      "text/plain": [
       "'This is the first line\\n This is the second line'"
      ]
     },
     "execution_count": 12,
     "metadata": {},
     "output_type": "execute_result"
    }
   ],
   "source": [
    "'This is the first line\\n This is the second line'"
   ]
  },
  {
   "cell_type": "markdown",
   "metadata": {},
   "source": [
    "One thing to note is that in a string, a single backslash at the end of the line indicates that\n",
    "the string is continued in the next line, but no newline is added. For example:"
   ]
  },
  {
   "cell_type": "code",
   "execution_count": 13,
   "metadata": {
    "collapsed": false
   },
   "outputs": [
    {
     "data": {
      "text/plain": [
       "'This is the first sentence. This is the second sentence.'"
      ]
     },
     "execution_count": 13,
     "metadata": {},
     "output_type": "execute_result"
    }
   ],
   "source": [
    "\"This is the first sentence. \\\n",
    "This is the second sentence.\""
   ]
  },
  {
   "cell_type": "markdown",
   "metadata": {},
   "source": [
    "#### Raw String"
   ]
  },
  {
   "cell_type": "markdown",
   "metadata": {},
   "source": [
    "If you need to specify some strings where no special processing such as escape sequences\n",
    "are handled, then what you need is to specify a raw string by prefixing  r  or  R  to the\n",
    "string. An example is:"
   ]
  },
  {
   "cell_type": "code",
   "execution_count": 14,
   "metadata": {
    "collapsed": false
   },
   "outputs": [
    {
     "data": {
      "text/plain": [
       "'Newlines are indicated by \\\\n'"
      ]
     },
     "execution_count": 14,
     "metadata": {},
     "output_type": "execute_result"
    }
   ],
   "source": [
    "r\"Newlines are indicated by \\n\""
   ]
  },
  {
   "cell_type": "markdown",
   "metadata": {},
   "source": [
    "##### Object"
   ]
  },
  {
   "cell_type": "markdown",
   "metadata": {},
   "source": [
    "Python is strongly object-oriented in the sense that everything is an object including\n",
    "numbers, strings and functions"
   ]
  },
  {
   "cell_type": "code",
   "execution_count": null,
   "metadata": {
    "collapsed": true
   },
   "outputs": [],
   "source": []
  }
 ],
 "metadata": {
  "kernelspec": {
   "display_name": "Python 3",
   "language": "python",
   "name": "python3"
  },
  "language_info": {
   "codemirror_mode": {
    "name": "ipython",
    "version": 3
   },
   "file_extension": ".py",
   "mimetype": "text/x-python",
   "name": "python",
   "nbconvert_exporter": "python",
   "pygments_lexer": "ipython3",
   "version": "3.5.2"
  }
 },
 "nbformat": 4,
 "nbformat_minor": 2
}
